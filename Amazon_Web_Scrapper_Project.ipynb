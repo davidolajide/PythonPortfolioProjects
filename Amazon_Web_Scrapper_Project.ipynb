{
 "cells": [
  {
   "cell_type": "code",
   "execution_count": 1,
   "id": "d0020e7b-7a9c-42a5-9309-3d5848c529aa",
   "metadata": {},
   "outputs": [],
   "source": [
    "# Import libraries \n",
    "\n",
    "from bs4 import BeautifulSoup\n",
    "import requests\n",
    "import time\n",
    "import datetime\n",
    "\n",
    "import smtplib"
   ]
  },
  {
   "cell_type": "code",
   "execution_count": 11,
   "id": "fef841ea-6a22-48b5-bbe4-31a2f6ab345e",
   "metadata": {},
   "outputs": [
    {
     "name": "stdout",
     "output_type": "stream",
     "text": [
      "\n",
      "                    Funny Data Analytics Data Engineering for a Data Scientist T-Shirt\n",
      "                   \n",
      "$16.99\n"
     ]
    }
   ],
   "source": [
    "# Connect to Website\n",
    "\n",
    "URL = 'https://www.amazon.com/Data-Analytics-Engineering-Scientist-T-Shirt/dp/B08WKD5S1P/ref=sr_1_2?crid=HFPJMUI9IW3I&dib=eyJ2IjoiMSJ9.4rF1EQhpmz5P3Vwl21HUolfviJMrvb1Y36DMZG6VMK-dC4jAPRpsuVKZEvyX0OgecyWGYo-7GZHgWXGRZAs8HDyjM-D800-u1u1sdXfGcvCnmmmR1OIJtRu6OSzcEB1Kax48AXNJld0CrL6Xlo57XtN5I0uTs7fBjGhRPKqUGGo1fa-bfHvuUYyf5vCeMUR5775PpNF_WtmOJe3XWq1yyKvn1YFQQ5J1hGiQ9KMB0pKm1PfOnc6uk2epLgeYcC3N81mKmVfrjzDPH36yX41VDhXeNMudHCp0hxg3e-LADjwSAnV_LeQwqydnU3xgZ03yLAJD6t_SLJJE-lMgn58RRIjRMGoO9pOsmXDJx4a4VhDpvrfIbS3lUDddF8JTKEZhBIXG8jOPJOC3TH0dnkTc1JnFIhOZHDpiV7LPOxZekWoVLiwh9h8Q_OCo_tseFUxY.nGNCjzaAbvYb8Z6Ks_V6ZSFvlisI5Ebr2TMaoI99_Bs&dib_tag=se&keywords=data%2Banalyst%2Bt-shirt&qid=1737141944&sprefix=data%2Banalyst%2Caps%2C341&sr=8-2&customId=B0752XJYNL&customizationToken=MC_Assembly_1%23B0752XJYNL&th=1'\n",
    "\n",
    "headers = {\"User-Agent\": \"Mozilla/5.0 (Windows NT 10.0; Win64; x64) AppleWebKit/537.36 (KHTML, like Gecko) Chrome/131.0.0.0 Safari/537.36\", \"Accept\":\"text/html,application/xhtml+xml,application/xml;q=0.9,*/*;q=0.8\", \"DNT\":\"1\",\"Connection\":\"close\", \"Upgrade-Insecure-Requests\":\"1\"}\n",
    "\n",
    "page = requests.get(URL, headers=headers)\n",
    "\n",
    "soup01 = BeautifulSoup(page.content, \"html.parser\")\n",
    "\n",
    "soup02 = BeautifulSoup(soup01.prettify(), \"html.parser\")\n",
    "\n",
    "title = soup02.find(id='productTitle').get_text()\n",
    "\n",
    "price_symbol = soup02.find(class_='a-price-symbol').get_text(strip=True)\n",
    "price_whole = soup02.find(class_='a-price-whole').get_text(strip=True)\n",
    "price_fraction = soup02.find(class_='a-price-fraction').get_text(strip=True)\n",
    "price = f'{price_symbol}{price_whole}{price_fraction}'\n",
    "\n",
    "print(title)\n",
    "print(price)"
   ]
  },
  {
   "cell_type": "code",
   "execution_count": 14,
   "id": "1a16e0c2-faac-48bc-9856-8b91e6c2a398",
   "metadata": {},
   "outputs": [
    {
     "name": "stdout",
     "output_type": "stream",
     "text": [
      "Funny Data Analytics Data Engineering for a Data Scientist T-Shirt\n",
      "16.99\n"
     ]
    }
   ],
   "source": [
    "price = price.strip()[1:]\n",
    "title = title.strip()\n",
    "\n",
    "print(title)\n",
    "print(price)"
   ]
  },
  {
   "cell_type": "code",
   "execution_count": 21,
   "id": "e87424d5-030d-47e5-b1b2-15e75a8c7e2c",
   "metadata": {},
   "outputs": [
    {
     "name": "stdout",
     "output_type": "stream",
     "text": [
      "2025-01-18\n"
     ]
    }
   ],
   "source": [
    "import datetime\n",
    "\n",
    "today = datetime.date.today()\n",
    "\n",
    "print(today)"
   ]
  },
  {
   "cell_type": "code",
   "execution_count": 22,
   "id": "944d945b-8d00-473c-9283-2ed1cf788a01",
   "metadata": {},
   "outputs": [],
   "source": [
    "# Create CSV and write headers and data into the file\n",
    "\n",
    "import csv\n",
    "\n",
    "header = ['Title', 'Price','Date']\n",
    "data = [title, price, today]\n",
    "\n",
    "with open('AmazonWebScrapperDataset.csv', 'w', newline='', encoding='UTF-8') as d:\n",
    "    writer = csv.writer(d)\n",
    "    writer.writerow(header)\n",
    "    writer.writerow(data)"
   ]
  },
  {
   "cell_type": "code",
   "execution_count": 24,
   "id": "31af4a93-0b61-4d10-8ddf-0990af9b63d3",
   "metadata": {},
   "outputs": [
    {
     "data": {
      "text/html": [
       "<div>\n",
       "<style scoped>\n",
       "    .dataframe tbody tr th:only-of-type {\n",
       "        vertical-align: middle;\n",
       "    }\n",
       "\n",
       "    .dataframe tbody tr th {\n",
       "        vertical-align: top;\n",
       "    }\n",
       "\n",
       "    .dataframe thead th {\n",
       "        text-align: right;\n",
       "    }\n",
       "</style>\n",
       "<table border=\"1\" class=\"dataframe\">\n",
       "  <thead>\n",
       "    <tr style=\"text-align: right;\">\n",
       "      <th></th>\n",
       "      <th>Title</th>\n",
       "      <th>Price</th>\n",
       "      <th>Date</th>\n",
       "    </tr>\n",
       "  </thead>\n",
       "  <tbody>\n",
       "    <tr>\n",
       "      <th>0</th>\n",
       "      <td>Funny Data Analytics Data Engineering for a Da...</td>\n",
       "      <td>16.99</td>\n",
       "      <td>2025-01-18</td>\n",
       "    </tr>\n",
       "  </tbody>\n",
       "</table>\n",
       "</div>"
      ],
      "text/plain": [
       "                                               Title  Price        Date\n",
       "0  Funny Data Analytics Data Engineering for a Da...  16.99  2025-01-18"
      ]
     },
     "execution_count": 24,
     "metadata": {},
     "output_type": "execute_result"
    }
   ],
   "source": [
    "import pandas as pd\n",
    "\n",
    "df = pd.read_csv(r'C:\\Users\\chatu\\AmazonWebScrapperDataset.csv')\n",
    "\n",
    "df"
   ]
  },
  {
   "cell_type": "code",
   "execution_count": null,
   "id": "e7f0b364-12cb-4366-b92a-2e9ffeedf0c9",
   "metadata": {},
   "outputs": [],
   "source": [
    "# Append data to the csv file\n",
    "\n",
    "#with open('AmazonWebScrapperDataset.csv', 'a+', newline='', encoding='UTF-8') as d:\n",
    "    #writer = csv.writer(d)\n",
    "    #writer.writerow(data)\n",
    "\n"
   ]
  },
  {
   "cell_type": "code",
   "execution_count": 25,
   "id": "2d3753e6-c710-4a8d-98ec-005479d46a94",
   "metadata": {},
   "outputs": [],
   "source": [
    "def checkprice():\n",
    "    URL = 'https://www.amazon.com/Data-Analytics-Engineering-Scientist-T-Shirt/dp/B08WKD5S1P/ref=sr_1_2?crid=HFPJMUI9IW3I&dib=eyJ2IjoiMSJ9.4rF1EQhpmz5P3Vwl21HUolfviJMrvb1Y36DMZG6VMK-dC4jAPRpsuVKZEvyX0OgecyWGYo-7GZHgWXGRZAs8HDyjM-D800-u1u1sdXfGcvCnmmmR1OIJtRu6OSzcEB1Kax48AXNJld0CrL6Xlo57XtN5I0uTs7fBjGhRPKqUGGo1fa-bfHvuUYyf5vCeMUR5775PpNF_WtmOJe3XWq1yyKvn1YFQQ5J1hGiQ9KMB0pKm1PfOnc6uk2epLgeYcC3N81mKmVfrjzDPH36yX41VDhXeNMudHCp0hxg3e-LADjwSAnV_LeQwqydnU3xgZ03yLAJD6t_SLJJE-lMgn58RRIjRMGoO9pOsmXDJx4a4VhDpvrfIbS3lUDddF8JTKEZhBIXG8jOPJOC3TH0dnkTc1JnFIhOZHDpiV7LPOxZekWoVLiwh9h8Q_OCo_tseFUxY.nGNCjzaAbvYb8Z6Ks_V6ZSFvlisI5Ebr2TMaoI99_Bs&dib_tag=se&keywords=data%2Banalyst%2Bt-shirt&qid=1737141944&sprefix=data%2Banalyst%2Caps%2C341&sr=8-2&customId=B0752XJYNL&customizationToken=MC_Assembly_1%23B0752XJYNL&th=1'\n",
    "\n",
    "    headers = {\"User-Agent\": \"Mozilla/5.0 (Windows NT 10.0; Win64; x64) AppleWebKit/537.36 (KHTML, like Gecko) Chrome/131.0.0.0 Safari/537.36\", \"Accept\":\"text/html,application/xhtml+xml,application/xml;q=0.9,*/*;q=0.8\", \"DNT\":\"1\",\"Connection\":\"close\", \"Upgrade-Insecure-Requests\":\"1\"}\n",
    "\n",
    "    page = requests.get(URL, headers=headers)\n",
    "\n",
    "    soup01 = BeautifulSoup(page.content, \"html.parser\")\n",
    "\n",
    "    soup02 = BeautifulSoup(soup01.prettify(), \"html.parser\")\n",
    "\n",
    "    title = soup02.find(id='productTitle').get_text()\n",
    "\n",
    "    price_symbol = soup02.find(class_='a-price-symbol').get_text(strip=True)\n",
    "    price_whole = soup02.find(class_='a-price-whole').get_text(strip=True)\n",
    "    price_fraction = soup02.find(class_='a-price-fraction').get_text(strip=True)\n",
    "    price = f'{price_symbol}{price_whole}{price_fraction}'\n",
    "\n",
    "    price = price.strip()[1:]\n",
    "    title = title.strip()\n",
    "\n",
    "    import datetime\n",
    "\n",
    "    today = datetime.date.today()\n",
    "\n",
    "    import csv\n",
    "\n",
    "    header = ['Title', 'Price','Date']\n",
    "    data = [title, price, today]\n",
    "    \n",
    "    with open('AmazonWebScrapperDataset.csv', 'a+', newline='', encoding='UTF-8') as d:\n",
    "        writer = csv.writer(d)\n",
    "        writer.writerow(data)\n"
   ]
  },
  {
   "cell_type": "code",
   "execution_count": null,
   "id": "cbc136bf-5be7-4c1c-b182-c1600c3051f9",
   "metadata": {},
   "outputs": [],
   "source": [
    "while(True):\n",
    "    checkprice()\n",
    "    time.sleep(86400)"
   ]
  },
  {
   "cell_type": "code",
   "execution_count": null,
   "id": "594855dc-5326-40bf-8590-6089d852762f",
   "metadata": {},
   "outputs": [],
   "source": [
    "import pandas as pd\n",
    "\n",
    "df = pd.read_csv(r'C:\\Users\\chatu\\AmazonWebScrapperDataset.csv')\n",
    "\n",
    "df"
   ]
  },
  {
   "cell_type": "code",
   "execution_count": null,
   "id": "244a127e-a1b1-4d73-9980-7eed12608f80",
   "metadata": {},
   "outputs": [],
   "source": [
    "# Sending an email when a price hits below a certain level\n",
    "\n",
    "def send_mail():\n",
    "    server = smtplib.SMTP_SSL('smtp.gmail.com',465)\n",
    "    server.ehlo()\n",
    "    #server.starttls()\n",
    "    server.ehlo()\n",
    "    server.login('chaturolajide@gmail.com','xxxxxxx')\n",
    "    \n",
    "    subject = 'The Shirt you want is below $15! Now is your chance to buy!'\n",
    "    body = 'Alex, This is the moment we have been waiting for. Now is your chance to pick up the shirt of your dreams. Don't mess it up! Link here: https://www.amazon.com/Data-Analytics-Engineering-Scientist-T-Shirt/dp/B08WKD5S1P/ref=sr_1_2?crid=HFPJMUI9IW3I&dib=eyJ2IjoiMSJ9.4rF1EQhpmz5P3Vwl21HUolfviJMrvb1Y36DMZG6VMK-dC4jAPRpsuVKZEvyX0OgecyWGYo-7GZHgWXGRZAs8HDyjM-D800-u1u1sdXfGcvCnmmmR1OIJtRu6OSzcEB1Kax48AXNJld0CrL6Xlo57XtN5I0uTs7fBjGhRPKqUGGo1fa-bfHvuUYyf5vCeMUR5775PpNF_WtmOJe3XWq1yyKvn1YFQQ5J1hGiQ9KMB0pKm1PfOnc6uk2epLgeYcC3N81mKmVfrjzDPH36yX41VDhXeNMudHCp0hxg3e-LADjwSAnV_LeQwqydnU3xgZ03yLAJD6t_SLJJE-lMgn58RRIjRMGoO9pOsmXDJx4a4VhDpvrfIbS3lUDddF8JTKEZhBIXG8jOPJOC3TH0dnkTc1JnFIhOZHDpiV7LPOxZekWoVLiwh9h8Q_OCo_tseFUxY.nGNCjzaAbvYb8Z6Ks_V6ZSFvlisI5Ebr2TMaoI99_Bs&dib_tag=se&keywords=data%2Banalyst%2Bt-shirt&qid=1737141944&sprefix=data%2Banalyst%2Caps%2C341&sr=8-2&customId=B0752XJYNL&customizationToken=MC_Assembly_1%23B0752XJYNL&th=1'\n",
    "\n",
    "   \n",
    "    msg = f\"Subject: {Black Friday}\\n\\n{Don't miss this offer!}\"\n",
    "    \n",
    "    server.sendmail(\n",
    "        'AlexTheAnalyst95@gmail.com',\n",
    "        msg\n",
    "     \n",
    "    )"
   ]
  },
  {
   "cell_type": "code",
   "execution_count": null,
   "id": "fbf7c33c-cacf-4e2c-b199-ae84cc193b0a",
   "metadata": {},
   "outputs": [],
   "source": [
    "if (price < 15):\n",
    "    send_mail()"
   ]
  }
 ],
 "metadata": {
  "kernelspec": {
   "display_name": "Python 3 (ipykernel)",
   "language": "python",
   "name": "python3"
  },
  "language_info": {
   "codemirror_mode": {
    "name": "ipython",
    "version": 3
   },
   "file_extension": ".py",
   "mimetype": "text/x-python",
   "name": "python",
   "nbconvert_exporter": "python",
   "pygments_lexer": "ipython3",
   "version": "3.12.7"
  }
 },
 "nbformat": 4,
 "nbformat_minor": 5
}
